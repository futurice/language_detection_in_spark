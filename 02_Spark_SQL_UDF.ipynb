{
 "cells": [
  {
   "cell_type": "code",
   "execution_count": 13,
   "metadata": {},
   "outputs": [],
   "source": [
    "from pyspark.sql import SparkSession\n",
    "from pyspark.sql.functions import col, udf\n",
    "from pyspark.sql.types import *\n",
    "from pyspark.sql.types import StructType"
   ]
  },
  {
   "cell_type": "code",
   "execution_count": 14,
   "metadata": {},
   "outputs": [
    {
     "data": {
      "text/html": [
       "\n",
       "            <div>\n",
       "                <p><b>SparkSession - hive</b></p>\n",
       "                \n",
       "        <div>\n",
       "            <p><b>SparkContext</b></p>\n",
       "\n",
       "            <p><a href=\"http://10.244.21.129:4041\">Spark UI</a></p>\n",
       "\n",
       "            <dl>\n",
       "              <dt>Version</dt>\n",
       "                <dd><code>v2.3.1</code></dd>\n",
       "              <dt>Master</dt>\n",
       "                <dd><code>local[*]</code></dd>\n",
       "              <dt>AppName</dt>\n",
       "                <dd><code>PySparkShell</code></dd>\n",
       "            </dl>\n",
       "        </div>\n",
       "        \n",
       "            </div>\n",
       "        "
      ],
      "text/plain": [
       "<pyspark.sql.session.SparkSession at 0x114cc7cc0>"
      ]
     },
     "execution_count": 14,
     "metadata": {},
     "output_type": "execute_result"
    }
   ],
   "source": [
    "spark"
   ]
  },
  {
   "cell_type": "code",
   "execution_count": 15,
   "metadata": {},
   "outputs": [],
   "source": [
    "EXAMPLE = 'hello world'"
   ]
  },
  {
   "cell_type": "code",
   "execution_count": 16,
   "metadata": {},
   "outputs": [
    {
     "data": {
      "text/plain": [
       "11"
      ]
     },
     "execution_count": 16,
     "metadata": {},
     "output_type": "execute_result"
    }
   ],
   "source": [
    "len(EXAMPLE)"
   ]
  },
  {
   "cell_type": "code",
   "execution_count": 17,
   "metadata": {},
   "outputs": [],
   "source": [
    "udf_len = udf(len)"
   ]
  },
  {
   "cell_type": "code",
   "execution_count": 18,
   "metadata": {},
   "outputs": [
    {
     "data": {
      "text/plain": [
       "11"
      ]
     },
     "execution_count": 18,
     "metadata": {},
     "output_type": "execute_result"
    }
   ],
   "source": [
    "udf_len.func(EXAMPLE)"
   ]
  },
  {
   "cell_type": "code",
   "execution_count": 19,
   "metadata": {},
   "outputs": [],
   "source": [
    "# Load data"
   ]
  },
  {
   "cell_type": "code",
   "execution_count": 20,
   "metadata": {},
   "outputs": [],
   "source": [
    "schema = StructType([\n",
    "    StructField(\"sentence_id\", IntegerType(), True),\n",
    "    StructField(\"language_code\", StringType(), True),\n",
    "    StructField(\"text\", StringType(), True)])\n",
    "messages = spark.read.csv('data/sentences.csv', schema=schema, sep='\\t')"
   ]
  },
  {
   "cell_type": "code",
   "execution_count": 21,
   "metadata": {},
   "outputs": [
    {
     "data": {
      "text/plain": [
       "5976658"
      ]
     },
     "execution_count": 21,
     "metadata": {},
     "output_type": "execute_result"
    }
   ],
   "source": [
    "messages.count()"
   ]
  },
  {
   "cell_type": "code",
   "execution_count": 22,
   "metadata": {},
   "outputs": [
    {
     "name": "stdout",
     "output_type": "stream",
     "text": [
      "+-----------+-------------+--------------------+\n",
      "|sentence_id|language_code|                text|\n",
      "+-----------+-------------+--------------------+\n",
      "|          1|          cmn|              我們試試看！|\n",
      "|          2|          cmn|             我该去睡觉了。|\n",
      "|          3|          cmn|             你在干什麼啊？|\n",
      "|          4|          cmn|              這是什麼啊？|\n",
      "|          5|          cmn|今天是６月１８号，也是Muirie...|\n",
      "|          6|          cmn|       生日快乐，Muiriel！|\n",
      "|          7|          cmn|      Muiriel现在20岁了。|\n",
      "|          8|          cmn|       密码是\"Muiriel\"。|\n",
      "|          9|          cmn|            我很快就會回來。|\n",
      "|         10|          cmn|               我不知道。|\n",
      "|         11|          cmn|        我不知道應該說什麼才好。|\n",
      "|         12|          cmn|           這個永遠完不了了。|\n",
      "|         13|          cmn|     我只是不知道應該說什麼而已……|\n",
      "|         14|          cmn|         那是一隻有惡意的兔子。|\n",
      "|         15|          cmn|             我以前在山里。|\n",
      "|         16|          cmn|            那是一张近照吗？|\n",
      "|         17|          cmn|         我不知道我有沒有時間。|\n",
      "|         18|          cmn| 剛才我的麥克風沒起作用，不知道為什麼。|\n",
      "|         19|          cmn|    到了最後，大家一定要靠自己學習。|\n",
      "|         20|          cmn|        世界上的教育都讓我失望。|\n",
      "+-----------+-------------+--------------------+\n",
      "only showing top 20 rows\n",
      "\n"
     ]
    }
   ],
   "source": [
    "messages.show()"
   ]
  },
  {
   "cell_type": "markdown",
   "metadata": {},
   "source": [
    "## Count chars using UDF"
   ]
  },
  {
   "cell_type": "code",
   "execution_count": 23,
   "metadata": {},
   "outputs": [],
   "source": [
    "messages = messages.withColumn('len', udf_len(col('text')))"
   ]
  },
  {
   "cell_type": "code",
   "execution_count": 24,
   "metadata": {},
   "outputs": [
    {
     "name": "stdout",
     "output_type": "stream",
     "text": [
      "+-----------+-------------+--------------------+---+\n",
      "|sentence_id|language_code|                text|len|\n",
      "+-----------+-------------+--------------------+---+\n",
      "|          1|          cmn|              我們試試看！|  6|\n",
      "|          2|          cmn|             我该去睡觉了。|  7|\n",
      "|          3|          cmn|             你在干什麼啊？|  7|\n",
      "|          4|          cmn|              這是什麼啊？|  6|\n",
      "|          5|          cmn|今天是６月１８号，也是Muirie...| 22|\n",
      "|          6|          cmn|       生日快乐，Muiriel！| 13|\n",
      "|          7|          cmn|      Muiriel现在20岁了。| 14|\n",
      "|          8|          cmn|       密码是\"Muiriel\"。| 13|\n",
      "|          9|          cmn|            我很快就會回來。|  8|\n",
      "|         10|          cmn|               我不知道。|  5|\n",
      "|         11|          cmn|        我不知道應該說什麼才好。| 12|\n",
      "|         12|          cmn|           這個永遠完不了了。|  9|\n",
      "|         13|          cmn|     我只是不知道應該說什麼而已……| 15|\n",
      "|         14|          cmn|         那是一隻有惡意的兔子。| 11|\n",
      "|         15|          cmn|             我以前在山里。|  7|\n",
      "|         16|          cmn|            那是一张近照吗？|  8|\n",
      "|         17|          cmn|         我不知道我有沒有時間。| 11|\n",
      "|         18|          cmn| 剛才我的麥克風沒起作用，不知道為什麼。| 19|\n",
      "|         19|          cmn|    到了最後，大家一定要靠自己學習。| 16|\n",
      "|         20|          cmn|        世界上的教育都讓我失望。| 12|\n",
      "+-----------+-------------+--------------------+---+\n",
      "only showing top 20 rows\n",
      "\n"
     ]
    }
   ],
   "source": [
    "messages.show()"
   ]
  },
  {
   "cell_type": "code",
   "execution_count": null,
   "metadata": {
    "collapsed": true
   },
   "outputs": [],
   "source": []
  }
 ],
 "metadata": {
  "kernelspec": {
   "display_name": "Python 3",
   "language": "python",
   "name": "python3"
  }
 },
 "nbformat": 4,
 "nbformat_minor": 2
}
