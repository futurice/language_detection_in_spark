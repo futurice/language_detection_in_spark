{
 "cells": [
  {
   "cell_type": "markdown",
   "metadata": {},
   "source": [
    "# Language detection\n",
    "1. Messages are being stored in CSV file\n",
    "2. We load messages to a Spark DataFrame\n",
    "3. We use previously trained fastText model to predict language\n",
    "4. Previously trained fastText model is in a custom `fasttext_lang_classifier` lib"
   ]
  },
  {
   "cell_type": "code",
   "execution_count": 1,
   "metadata": {},
   "outputs": [
    {
     "data": {
      "text/html": [
       "\n",
       "            <div>\n",
       "                <p><b>SparkSession - hive</b></p>\n",
       "                \n",
       "        <div>\n",
       "            <p><b>SparkContext</b></p>\n",
       "\n",
       "            <p><a href=\"http://10.244.21.129:4040\">Spark UI</a></p>\n",
       "\n",
       "            <dl>\n",
       "              <dt>Version</dt>\n",
       "                <dd><code>v2.3.1</code></dd>\n",
       "              <dt>Master</dt>\n",
       "                <dd><code>local[*]</code></dd>\n",
       "              <dt>AppName</dt>\n",
       "                <dd><code>PySparkShell</code></dd>\n",
       "            </dl>\n",
       "        </div>\n",
       "        \n",
       "            </div>\n",
       "        "
      ],
      "text/plain": [
       "<pyspark.sql.session.SparkSession at 0x109a6f898>"
      ]
     },
     "execution_count": 1,
     "metadata": {},
     "output_type": "execute_result"
    }
   ],
   "source": [
    "spark"
   ]
  },
  {
   "cell_type": "code",
   "execution_count": 2,
   "metadata": {},
   "outputs": [],
   "source": [
    "from pyspark.sql import SparkSession\n",
    "from pyspark.sql.functions import col, udf\n",
    "from pyspark.sql.types import *\n",
    "from pyspark.sql.types import StructType"
   ]
  },
  {
   "cell_type": "code",
   "execution_count": 3,
   "metadata": {},
   "outputs": [],
   "source": [
    "# Load data\n",
    "schema = StructType([\n",
    "    StructField(\"sentence_id\", IntegerType(), True),\n",
    "    StructField(\"language_code\", StringType(), True),\n",
    "    StructField(\"text\", StringType(), True)])\n",
    "messages = spark.read.csv('data/sentences.csv', schema=schema, sep='\\t')"
   ]
  },
  {
   "cell_type": "markdown",
   "metadata": {},
   "source": [
    "## Load our custom fastText language classifier lib"
   ]
  },
  {
   "cell_type": "code",
   "execution_count": 4,
   "metadata": {},
   "outputs": [],
   "source": [
    "import fasttext_lang_classifier"
   ]
  },
  {
   "cell_type": "code",
   "execution_count": 5,
   "metadata": {},
   "outputs": [],
   "source": [
    "udf_predict_language = udf(fasttext_lang_classifier.predict_language)"
   ]
  },
  {
   "cell_type": "markdown",
   "metadata": {},
   "source": [
    "### Test predictor"
   ]
  },
  {
   "cell_type": "code",
   "execution_count": 6,
   "metadata": {},
   "outputs": [
    {
     "data": {
      "text/plain": [
       "'eng'"
      ]
     },
     "execution_count": 6,
     "metadata": {},
     "output_type": "execute_result"
    }
   ],
   "source": [
    "udf_predict_language.func('Hello world!')"
   ]
  },
  {
   "cell_type": "code",
   "execution_count": 7,
   "metadata": {},
   "outputs": [
    {
     "data": {
      "text/plain": [
       "'fin'"
      ]
     },
     "execution_count": 7,
     "metadata": {},
     "output_type": "execute_result"
    }
   ],
   "source": [
    "udf_predict_language.func('Moi maailma!')"
   ]
  },
  {
   "cell_type": "markdown",
   "metadata": {},
   "source": [
    "## Predict language"
   ]
  },
  {
   "cell_type": "code",
   "execution_count": 8,
   "metadata": {},
   "outputs": [
    {
     "name": "stdout",
     "output_type": "stream",
     "text": [
      "CPU times: user 9.85 ms, sys: 3.43 ms, total: 13.3 ms\n",
      "Wall time: 148 ms\n"
     ]
    }
   ],
   "source": [
    "%%time\n",
    "messages = messages.withColumn('predicted_lang',\n",
    "                               udf_predict_language(col('text')))"
   ]
  },
  {
   "cell_type": "code",
   "execution_count": 9,
   "metadata": {},
   "outputs": [
    {
     "name": "stdout",
     "output_type": "stream",
     "text": [
      "+-----------+-------------+--------------------+--------------+\n",
      "|sentence_id|language_code|                text|predicted_lang|\n",
      "+-----------+-------------+--------------------+--------------+\n",
      "|          1|          cmn|              我們試試看！|           cmn|\n",
      "|          2|          cmn|             我该去睡觉了。|           cmn|\n",
      "|          3|          cmn|             你在干什麼啊？|           cmn|\n",
      "|          4|          cmn|              這是什麼啊？|           cmn|\n",
      "|          5|          cmn|今天是６月１８号，也是Muirie...|           cmn|\n",
      "|          6|          cmn|       生日快乐，Muiriel！|           cmn|\n",
      "|          7|          cmn|      Muiriel现在20岁了。|           cmn|\n",
      "|          8|          cmn|       密码是\"Muiriel\"。|           cmn|\n",
      "|          9|          cmn|            我很快就會回來。|           cmn|\n",
      "|         10|          cmn|               我不知道。|           cmn|\n",
      "|         11|          cmn|        我不知道應該說什麼才好。|           cmn|\n",
      "|         12|          cmn|           這個永遠完不了了。|           cmn|\n",
      "|         13|          cmn|     我只是不知道應該說什麼而已……|           cmn|\n",
      "|         14|          cmn|         那是一隻有惡意的兔子。|           cmn|\n",
      "|         15|          cmn|             我以前在山里。|           cmn|\n",
      "|         16|          cmn|            那是一张近照吗？|           cmn|\n",
      "|         17|          cmn|         我不知道我有沒有時間。|           cmn|\n",
      "|         18|          cmn| 剛才我的麥克風沒起作用，不知道為什麼。|           cmn|\n",
      "|         19|          cmn|    到了最後，大家一定要靠自己學習。|           cmn|\n",
      "|         20|          cmn|        世界上的教育都讓我失望。|           cmn|\n",
      "+-----------+-------------+--------------------+--------------+\n",
      "only showing top 20 rows\n",
      "\n",
      "CPU times: user 2.09 ms, sys: 2.01 ms, total: 4.09 ms\n",
      "Wall time: 6.61 s\n"
     ]
    }
   ],
   "source": [
    "%%time\n",
    "messages.show()"
   ]
  },
  {
   "cell_type": "code",
   "execution_count": 10,
   "metadata": {},
   "outputs": [
    {
     "data": {
      "text/plain": [
       "'eng'"
      ]
     },
     "execution_count": 10,
     "metadata": {},
     "output_type": "execute_result"
    }
   ],
   "source": [
    "udf_predict_language.func('Hello World Moi Maailma')"
   ]
  },
  {
   "cell_type": "code",
   "execution_count": 11,
   "metadata": {},
   "outputs": [
    {
     "data": {
      "text/plain": [
       "[[('__label__cmn', 0.871094)]]"
      ]
     },
     "execution_count": 11,
     "metadata": {},
     "output_type": "execute_result"
    }
   ],
   "source": [
    "fasttext_lang_classifier.model.predict_proba(['世'])"
   ]
  },
  {
   "cell_type": "markdown",
   "metadata": {},
   "source": [
    "## Predict test samples"
   ]
  },
  {
   "cell_type": "code",
   "execution_count": 123,
   "metadata": {},
   "outputs": [],
   "source": [
    "def get_msg(data_col):\n",
    "    #label = data_col.split(' ')[0]\n",
    "    msg = ' '.join(data_col.split(' ')[1:])\n",
    "    return msg\n",
    "get_message = udf(get_msg)"
   ]
  },
  {
   "cell_type": "code",
   "execution_count": 121,
   "metadata": {},
   "outputs": [],
   "source": [
    "test = spark.read.text('data/fasttext_train.txt')"
   ]
  },
  {
   "cell_type": "code",
   "execution_count": 85,
   "metadata": {},
   "outputs": [],
   "source": [
    "from pyspark.sql import functions"
   ]
  },
  {
   "cell_type": "code",
   "execution_count": 124,
   "metadata": {},
   "outputs": [],
   "source": [
    "test = test.withColumn('language', functions.substring_index(test.value, ' ', 1))\n",
    "test = test.withColumn('message', get_message(col('value')))"
   ]
  },
  {
   "cell_type": "code",
   "execution_count": 125,
   "metadata": {},
   "outputs": [
    {
     "name": "stdout",
     "output_type": "stream",
     "text": [
      "[Row(value='__label__cmn 我不知道。', language='__label__cmn', message='我不知道。'),\n",
      " Row(value='__label__deu Unglücklicherweise stimmt es.', language='__label__deu', message='Unglücklicherweise stimmt es.'),\n",
      " Row(value='__label__deu Das ist das Dümmste, was ich je gesagt habe.', language='__label__deu', message='Das ist das Dümmste, was ich je gesagt habe.'),\n",
      " Row(value='__label__deu Wenn du keine Kinder kriegen kannst, kannst du immer noch welche adoptieren.', language='__label__deu', message='Wenn du keine Kinder kriegen kannst, kannst du immer noch welche adoptieren.'),\n",
      " Row(value='__label__deu Seien wir ehrlich, es ist unmöglich. Wir werden es nie schaffen.', language='__label__deu', message='Seien wir ehrlich, es ist unmöglich. Wir werden es nie schaffen.')]\n"
     ]
    }
   ],
   "source": [
    "from pprint import pprint\n",
    "pprint(test.sample(False, 0.01, 42).take(5))"
   ]
  },
  {
   "cell_type": "code",
   "execution_count": 126,
   "metadata": {},
   "outputs": [],
   "source": [
    "test = test.withColumn('predicted_lang',\n",
    "                       udf_predict_language(col('message')))"
   ]
  },
  {
   "cell_type": "code",
   "execution_count": 127,
   "metadata": {},
   "outputs": [
    {
     "name": "stdout",
     "output_type": "stream",
     "text": [
      "+--------------------+------------+--------------------+--------------+\n",
      "|               value|    language|             message|predicted_lang|\n",
      "+--------------------+------------+--------------------+--------------+\n",
      "|  __label__cmn 我不知道。|__label__cmn|               我不知道。|           cmn|\n",
      "|__label__deu Ungl...|__label__deu|Unglücklicherweis...|           deu|\n",
      "|__label__deu Das ...|__label__deu|Das ist das Dümms...|           deu|\n",
      "|__label__deu Wenn...|__label__deu|Wenn du keine Kin...|           deu|\n",
      "|__label__deu Seie...|__label__deu|Seien wir ehrlich...|           deu|\n",
      "+--------------------+------------+--------------------+--------------+\n",
      "only showing top 5 rows\n",
      "\n"
     ]
    }
   ],
   "source": [
    "test.sample(False, 0.01, 42).show(5)"
   ]
  },
  {
   "cell_type": "code",
   "execution_count": 132,
   "metadata": {},
   "outputs": [
    {
     "name": "stdout",
     "output_type": "stream",
     "text": [
      "+-------------+--------------+------+\n",
      "|     language|predicted_lang| count|\n",
      "+-------------+--------------+------+\n",
      "| __label__eng|           eng|616234|\n",
      "| __label__tur|           tur|461610|\n",
      "| __label__epo|           epo|438097|\n",
      "| __label__rus|           rus|424834|\n",
      "| __label__ita|           ita|419386|\n",
      "| __label__deu|           deu|312408|\n",
      "| __label__fra|           fra|269938|\n",
      "| __label__spa|           spa|220595|\n",
      "| __label__por|           por|203944|\n",
      "| __label__hun|           hun|163616|\n",
      "| __label__heb|           heb|151325|\n",
      "| __label__jpn|           cmn|112876|\n",
      "| __label__ber|           ber| 84527|\n",
      "| __label__pol|           pol| 72607|\n",
      "| __label__mkd|           mkd| 61636|\n",
      "| __label__fin|           fin| 61492|\n",
      "| __label__ukr|           ukr| 60105|\n",
      "| __label__nld|           nld| 52508|\n",
      "| __label__cmn|           cmn| 46233|\n",
      "| __label__jpn|           jpn| 34915|\n",
      "| __label__mar|           mar| 31182|\n",
      "| __label__dan|           dan| 25837|\n",
      "| __label__swe|           swe| 25184|\n",
      "| __label__ell|           ell| 21588|\n",
      "| __label__srp|           srp| 18242|\n",
      "| __label__lat|           lat| 17982|\n",
      "| __label__ces|           ces| 17903|\n",
      "| __label__bul|           bul| 17790|\n",
      "| __label__ara|           ara| 17698|\n",
      "| __label__ina|           ina| 17297|\n",
      "| __label__lit|           lit| 13714|\n",
      "| __label__nds|           nds| 13625|\n",
      "| __label__pes|           pes| 12531|\n",
      "| __label__jbo|           jbo| 12303|\n",
      "| __label__tlh|           tlh| 11770|\n",
      "| __label__ron|           ron| 10486|\n",
      "| __label__tgl|           tgl| 10061|\n",
      "| __label__tat|           tat|  9854|\n",
      "|__label__toki|          toki|  9761|\n",
      "| __label__ind|           ind|  9004|\n",
      "| __label__nob|           nob|  8974|\n",
      "| __label__isl|           isl|  8768|\n",
      "| __label__hin|           hin|  8314|\n",
      "| __label__vie|           vie|  8146|\n",
      "| __label__uig|           uig|  6097|\n",
      "| __label__bel|           bel|  5934|\n",
      "| __label__lfn|           lfn|  5784|\n",
      "| __label__bre|           bre|  5153|\n",
      "| __label__cat|           cat|  4653|\n",
      "| __label__oci|           oci|  4382|\n",
      "| __label__ile|           ile|  4082|\n",
      "| __label__ido|           ido|  3919|\n",
      "| __label__ben|           ben|  3734|\n",
      "| __label__yue|           yue|  3562|\n",
      "| __label__hrv|           hrv|  3545|\n",
      "| __label__aze|           aze|  3519|\n",
      "| __label__mhr|           mhr|  3374|\n",
      "| __label__eus|           eus|  3205|\n",
      "| __label__srp|           hrv|  3070|\n",
      "| __label__cor|           cor|  3004|\n",
      "| __label__glg|           glg|  2979|\n",
      "| __label__avk|           avk|  2884|\n",
      "| __label__kor|           kor|  2786|\n",
      "| __label__afr|           afr|  2499|\n",
      "| __label__slk|           slk|  2376|\n",
      "| __label__est|           est|  2256|\n",
      "| __label__kaz|           kaz|  2013|\n",
      "| __label__cbk|           cbk|  1955|\n",
      "| __label__ilo|           ilo|  1942|\n",
      "| __label__wuu|           wuu|  1886|\n",
      "| __label__dtp|           dtp|  1739|\n",
      "| __label__hye|           hye|  1681|\n",
      "| __label__vol|           vol|  1647|\n",
      "| __label__gle|           gle|  1572|\n",
      "| __label__wuu|           cmn|  1547|\n",
      "| __label__urd|           urd|  1536|\n",
      "| __label__ukr|           rus|  1500|\n",
      "| __label__lvs|           lvs|  1359|\n",
      "| __label__lzh|           lzh|  1348|\n",
      "| __label__bul|           mkd|  1304|\n",
      "| __label__zsm|           zsm|  1225|\n",
      "| __label__war|           war|  1172|\n",
      "| __label__pam|           pam|  1160|\n",
      "| __label__chv|           chv|  1155|\n",
      "| __label__nob|           dan|  1133|\n",
      "| __label__ceb|           ceb|  1112|\n",
      "| __label__kzj|           kzj|  1059|\n",
      "| __label__orv|           orv|   957|\n",
      "| __label__khm|           khm|   767|\n",
      "| __label__yid|           yid|   758|\n",
      "| __label__kha|           kha|   742|\n",
      "| __label__gla|           gla|   739|\n",
      "| __label__yue|           cmn|   716|\n",
      "| __label__xal|           xal|   675|\n",
      "| __label__ber|           cmn|   673|\n",
      "| __label__prg|           prg|   664|\n",
      "| __label__sah|           sah|   663|\n",
      "| __label__pms|           pms|   625|\n",
      "| __label__nst|           nst|   621|\n",
      "| __label__kat|           kat|   580|\n",
      "+-------------+--------------+------+\n",
      "only showing top 100 rows\n",
      "\n"
     ]
    }
   ],
   "source": [
    "test.groupBy(['language', 'predicted_lang']).count().sort('count', ascending=False).show(100) #sort(['language', 'predicted_lang']).show(1000)"
   ]
  },
  {
   "cell_type": "code",
   "execution_count": null,
   "metadata": {},
   "outputs": [],
   "source": []
  }
 ],
 "metadata": {
  "kernelspec": {
   "display_name": "Python 3",
   "language": "python",
   "name": "python3"
  },
  "language_info": {
   "codemirror_mode": {
    "name": "ipython",
    "version": 3
   },
   "file_extension": ".py",
   "mimetype": "text/x-python",
   "name": "python",
   "nbconvert_exporter": "python",
   "pygments_lexer": "ipython3",
   "version": "3.6.5"
  }
 },
 "nbformat": 4,
 "nbformat_minor": 2
}
